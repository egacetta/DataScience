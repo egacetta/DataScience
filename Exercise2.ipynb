{
  "cells": [
    {
      "cell_type": "markdown",
      "metadata": {
        "id": "view-in-github",
        "colab_type": "text"
      },
      "source": [
        "<a href=\"https://colab.research.google.com/github/egacetta/gacetta_DSPN_S25/blob/main/Exercise2.ipynb\" target=\"_parent\"><img src=\"https://colab.research.google.com/assets/colab-badge.svg\" alt=\"Open In Colab\"/></a>"
      ]
    },
    {
      "cell_type": "markdown",
      "metadata": {
        "id": "8g80jMldl9Sn"
      },
      "source": [
        "# Exercise 2: Coding Habits & Functions"
      ]
    },
    {
      "cell_type": "markdown",
      "source": [
        "1. Summary statistics 3/4: NA value should not be included in the vector length calculation\n",
        "2. T-test function 4/4: function works, but the value will be correct if the NA value was addressed correctly when calculating the length of the vector\n",
        "3. Setting default values 2/2: function works, but the value will be correct if the NA value was addressed correctly when calculating the length of the vector"
      ],
      "metadata": {
        "id": "gaVgxIhel5z1"
      }
    },
    {
      "cell_type": "markdown",
      "metadata": {
        "id": "YVWrPJRHl9Sr"
      },
      "source": [
        "This assignment will give you some practice writing your own functions and using the coding best practices discussed in the tutorial.\n",
        "\n",
        "---"
      ]
    },
    {
      "cell_type": "markdown",
      "metadata": {
        "id": "AkwioxZAl9Ss"
      },
      "source": [
        "## 1. Summary statistics (4 pts)\n",
        "\n",
        "Write a function that takes a vector of numbers `x` and returns the length, mean, and standard deviation of `x` as a new vector.\n",
        "\n",
        "In keeping with our best practices, give the function a short but descriptive name, and use snake case if it involves multiple words.\n",
        "\n",
        "Hint: Vectors are defined in R using the `c()` command."
      ]
    },
    {
      "cell_type": "code",
      "execution_count": 1,
      "metadata": {
        "vscode": {
          "languageId": "r"
        },
        "id": "uf2upXXsl9St"
      },
      "outputs": [],
      "source": [
        "weekly_assignments <- function(x) {\n",
        "  len_assignment <- length(x)\n",
        "  mean_assignment <- mean(x, na.rm = TRUE)\n",
        "  sd_assignment <- sd(x, na.rm = TRUE)\n",
        "  return(c(length = len_assignment, mean = mean_assignment, sd = sd_assignment))\n",
        "}"
      ]
    },
    {
      "cell_type": "markdown",
      "metadata": {
        "id": "cMF-bZZKl9Sv"
      },
      "source": [
        "Calculate the summary statistics of vector `v1`.\n",
        "\n",
        "*Hint*: Note the \"NA\" in the vector. This is short for \"not available\" and is a placeholder for missing values. You'll want to look up the _is.na_ function (and the not operator _!_), as well as options for removing NA's in the functions that you will use to summarize the vector. Look at the documentation for the functions that you will use to see how to work with NA's."
      ]
    },
    {
      "cell_type": "code",
      "execution_count": 2,
      "metadata": {
        "vscode": {
          "languageId": "r"
        },
        "id": "0RelXQ0hl9Sv",
        "colab": {
          "base_uri": "https://localhost:8080/",
          "height": 34
        },
        "outputId": "f042714d-d137-405b-863c-6cb35a5b3c50"
      },
      "outputs": [
        {
          "output_type": "display_data",
          "data": {
            "text/html": [
              "<style>\n",
              ".dl-inline {width: auto; margin:0; padding: 0}\n",
              ".dl-inline>dt, .dl-inline>dd {float: none; width: auto; display: inline-block}\n",
              ".dl-inline>dt::after {content: \":\\0020\"; padding-right: .5ex}\n",
              ".dl-inline>dt:not(:first-of-type) {padding-left: .5ex}\n",
              "</style><dl class=dl-inline><dt>length</dt><dd>5</dd><dt>mean</dt><dd>7.75</dd><dt>sd</dt><dd>2.75378527364305</dd></dl>\n"
            ],
            "text/markdown": "length\n:   5mean\n:   7.75sd\n:   2.75378527364305\n\n",
            "text/latex": "\\begin{description*}\n\\item[length] 5\n\\item[mean] 7.75\n\\item[sd] 2.75378527364305\n\\end{description*}\n",
            "text/plain": [
              "  length     mean       sd \n",
              "5.000000 7.750000 2.753785 "
            ]
          },
          "metadata": {}
        }
      ],
      "source": [
        "v1  <- c(5, 11, 6, NA, 9)\n",
        "weekly_assignments(v1)"
      ]
    },
    {
      "cell_type": "markdown",
      "metadata": {
        "id": "bNYPevSgl9Sw"
      },
      "source": [
        "---\n",
        "## 2. T-test function (4 pts)\n",
        "\n",
        "The formula for a t-test is:"
      ]
    },
    {
      "cell_type": "markdown",
      "metadata": {
        "id": "t0TZ0QN4l9Sw"
      },
      "source": [
        "$$ \\frac{m- \\mu}{ \\frac{s}{\\sqrt{n}}} $$"
      ]
    },
    {
      "cell_type": "markdown",
      "metadata": {
        "id": "AMJiCvAAl9Sx"
      },
      "source": [
        "Where m is the sample mean, $\\mu$ (mu) is the population mean, s is the standard deviation, and n is the sample size.\n",
        "\n",
        "Using your function above as a starting point, write a new function `ttest_fun` that compares a vector `x` to a given population mean `mu` and calculates the t-statistic. Keep the coding best practices in mind.\n",
        "\n",
        "Hint: You will need to add another argument for mu."
      ]
    },
    {
      "cell_type": "code",
      "execution_count": 5,
      "metadata": {
        "vscode": {
          "languageId": "r"
        },
        "id": "Arlp_phJl9Sx"
      },
      "outputs": [],
      "source": [
        "ttest_fun <- function(x, mu) {\n",
        "  mean_assignment <- mean(x, na.rm = TRUE)\n",
        "  sd_assignment <- sd(x, na.rm = TRUE)\n",
        "  len_assignment <- length(x)\n",
        "tstat = (mean_assignment - mu) / (sd_assignment / sqrt(len_assignment))\n",
        "return(c(tstat=tstat, length=len_assignment, mean=mean_assignment, sd=sd_assignment))\n",
        "}"
      ]
    },
    {
      "cell_type": "markdown",
      "metadata": {
        "id": "4v9YsOkJl9Sx"
      },
      "source": [
        "Use your function to compare the mean of v1 to 10."
      ]
    },
    {
      "cell_type": "code",
      "execution_count": 4,
      "metadata": {
        "vscode": {
          "languageId": "r"
        },
        "id": "ApkKR_8ql9Sx",
        "colab": {
          "base_uri": "https://localhost:8080/",
          "height": 34
        },
        "outputId": "c89d8bff-aae3-4835-8d5d-50e93266ba1f"
      },
      "outputs": [
        {
          "output_type": "display_data",
          "data": {
            "text/html": [
              "<style>\n",
              ".dl-inline {width: auto; margin:0; padding: 0}\n",
              ".dl-inline>dt, .dl-inline>dd {float: none; width: auto; display: inline-block}\n",
              ".dl-inline>dt::after {content: \":\\0020\"; padding-right: .5ex}\n",
              ".dl-inline>dt:not(:first-of-type) {padding-left: .5ex}\n",
              "</style><dl class=dl-inline><dt>tstat</dt><dd>-1.82699537161759</dd><dt>length</dt><dd>5</dd><dt>mean</dt><dd>7.75</dd><dt>sd</dt><dd>2.75378527364305</dd></dl>\n"
            ],
            "text/markdown": "tstat\n:   -1.82699537161759length\n:   5mean\n:   7.75sd\n:   2.75378527364305\n\n",
            "text/latex": "\\begin{description*}\n\\item[tstat] -1.82699537161759\n\\item[length] 5\n\\item[mean] 7.75\n\\item[sd] 2.75378527364305\n\\end{description*}\n",
            "text/plain": [
              "    tstat    length      mean        sd \n",
              "-1.826995  5.000000  7.750000  2.753785 "
            ]
          },
          "metadata": {}
        }
      ],
      "source": [
        "ttest_fun(v1, 10)\n"
      ]
    },
    {
      "cell_type": "markdown",
      "metadata": {
        "id": "Mq15FStnl9Sy"
      },
      "source": [
        "---\n",
        "## 3. Setting default values (2 pts)\n",
        "\n",
        "Set the default value of mu to 0. Test your modified function below by supplying only `v2` as an argument."
      ]
    },
    {
      "cell_type": "code",
      "execution_count": 6,
      "metadata": {
        "vscode": {
          "languageId": "r"
        },
        "id": "PfoW0mHPl9Sy"
      },
      "outputs": [],
      "source": [
        "ttest_fun <- function(x, mu = 0) {\n",
        "  mean_assignment <- mean(x, na.rm = TRUE)\n",
        "  sd_assignment <- sd(x, na.rm = TRUE)\n",
        "  len_assignment <- length(x)\n",
        "tstat = (mean_assignment - mu) / (sd_assignment / sqrt(len_assignment))\n",
        "return(c(tstat=tstat, length=len_assignment, mean=mean_assignment, sd=sd_assignment))\n",
        "}"
      ]
    },
    {
      "cell_type": "code",
      "execution_count": 7,
      "metadata": {
        "vscode": {
          "languageId": "r"
        },
        "id": "qo2qUzY3l9Sy",
        "colab": {
          "base_uri": "https://localhost:8080/",
          "height": 34
        },
        "outputId": "d3f0c91e-4ede-420a-d99a-6bda7f670123"
      },
      "outputs": [
        {
          "output_type": "display_data",
          "data": {
            "text/html": [
              "<style>\n",
              ".dl-inline {width: auto; margin:0; padding: 0}\n",
              ".dl-inline>dt, .dl-inline>dd {float: none; width: auto; display: inline-block}\n",
              ".dl-inline>dt::after {content: \":\\0020\"; padding-right: .5ex}\n",
              ".dl-inline>dt:not(:first-of-type) {padding-left: .5ex}\n",
              "</style><dl class=dl-inline><dt>tstat</dt><dd>3.51193534102953</dd><dt>length</dt><dd>6</dd><dt>mean</dt><dd>6.2</dd><dt>sd</dt><dd>4.32434966208793</dd></dl>\n"
            ],
            "text/markdown": "tstat\n:   3.51193534102953length\n:   6mean\n:   6.2sd\n:   4.32434966208793\n\n",
            "text/latex": "\\begin{description*}\n\\item[tstat] 3.51193534102953\n\\item[length] 6\n\\item[mean] 6.2\n\\item[sd] 4.32434966208793\n\\end{description*}\n",
            "text/plain": [
              "   tstat   length     mean       sd \n",
              "3.511935 6.000000 6.200000 4.324350 "
            ]
          },
          "metadata": {}
        }
      ],
      "source": [
        "v2 <- c(3, 7, 1, NA, 8, 12)\n",
        "ttest_fun(v2)"
      ]
    },
    {
      "cell_type": "markdown",
      "metadata": {
        "id": "s18lSGFNl9Sy"
      },
      "source": [
        "How does your result compare to R's built-in `t.test()` function?"
      ]
    },
    {
      "cell_type": "code",
      "execution_count": 8,
      "metadata": {
        "scrolled": true,
        "vscode": {
          "languageId": "r"
        },
        "id": "69daXbgal9Sy",
        "colab": {
          "base_uri": "https://localhost:8080/",
          "height": 213
        },
        "outputId": "b3af967b-f526-41f5-8937-4269a5cec247"
      },
      "outputs": [
        {
          "output_type": "display_data",
          "data": {
            "text/plain": [
              "\n",
              "\tOne Sample t-test\n",
              "\n",
              "data:  v2\n",
              "t = 3.2059, df = 4, p-value = 0.03272\n",
              "alternative hypothesis: true mean is not equal to 0\n",
              "95 percent confidence interval:\n",
              "  0.8306107 11.5693893\n",
              "sample estimates:\n",
              "mean of x \n",
              "      6.2 \n"
            ]
          },
          "metadata": {}
        }
      ],
      "source": [
        "t.test(v2)"
      ]
    },
    {
      "cell_type": "markdown",
      "metadata": {
        "id": "2slWzsoYGuLt"
      },
      "source": [
        "When you are finished, save the notebook as Exercise2.ipynb, push it to your class GitHub repository (the one you made for Exercise 1) and send the instructors a link to your notebook via Canvas. You can send messages via Canvas by clicking \"Inbox\" on the left and then pressing the icon with a pencil inside a square."
      ]
    },
    {
      "cell_type": "markdown",
      "metadata": {
        "id": "C4MPECMmZXqe"
      },
      "source": [
        "**DUE:** 5pm EST, Feb 3, 2025"
      ]
    },
    {
      "cell_type": "markdown",
      "metadata": {
        "id": "r9GUofXN4BVy"
      },
      "source": [
        "**IMPORTANT** Did you collaborate with anyone on this assignment? If so, list their names here.\n",
        "> *Someone's Name*"
      ]
    }
  ],
  "metadata": {
    "kernelspec": {
      "display_name": "R",
      "language": "R",
      "name": "ir"
    },
    "language_info": {
      "codemirror_mode": "r",
      "file_extension": ".r",
      "mimetype": "text/x-r-source",
      "name": "R",
      "pygments_lexer": "r",
      "version": "4.4.1"
    },
    "colab": {
      "provenance": [],
      "include_colab_link": true
    }
  },
  "nbformat": 4,
  "nbformat_minor": 0
}